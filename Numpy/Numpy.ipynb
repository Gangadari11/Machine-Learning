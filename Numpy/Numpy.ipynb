{
 "cells": [
  {
   "cell_type": "markdown",
   "id": "f04c7a83-7040-4b52-a65d-baec4e955876",
   "metadata": {},
   "source": [
    "# 1 Lesson"
   ]
  },
  {
   "cell_type": "code",
   "execution_count": 1,
   "id": "3d30849e-5221-40a1-b030-8c83c833bcb3",
   "metadata": {},
   "outputs": [],
   "source": [
    "import numpy as np"
   ]
  },
  {
   "cell_type": "code",
   "execution_count": 2,
   "id": "9894b7b7-335a-4617-b52d-0662adac8620",
   "metadata": {},
   "outputs": [
    {
     "data": {
      "text/plain": [
       "array([1, 2, 3, 4])"
      ]
     },
     "execution_count": 2,
     "metadata": {},
     "output_type": "execute_result"
    }
   ],
   "source": [
    "np.array([1,2,3,4])"
   ]
  },
  {
   "cell_type": "code",
   "execution_count": 3,
   "id": "458c8cd6-e2ec-4d78-bd82-ee1692f90b5a",
   "metadata": {},
   "outputs": [
    {
     "name": "stdout",
     "output_type": "stream",
     "text": [
      "2.1.2\n"
     ]
    }
   ],
   "source": [
    "print(np.__version__)"
   ]
  },
  {
   "cell_type": "code",
   "execution_count": 4,
   "id": "ee7bbb0d-2e05-4ec5-ba25-f4a75e968cb4",
   "metadata": {},
   "outputs": [
    {
     "name": "stdout",
     "output_type": "stream",
     "text": [
      "[1 2 3 4]\n"
     ]
    }
   ],
   "source": [
    "x=np.array([1,2,3,4])\n",
    "print(x)"
   ]
  },
  {
   "cell_type": "markdown",
   "id": "f9361b60-12ef-4f6f-a150-70c298ef6d78",
   "metadata": {},
   "source": [
    "# 2 Lesson"
   ]
  },
  {
   "cell_type": "code",
   "execution_count": 5,
   "id": "c61ec321-f5aa-44e6-a3f1-9c08cfa168c8",
   "metadata": {},
   "outputs": [],
   "source": [
    "import numpy as np"
   ]
  },
  {
   "cell_type": "code",
   "execution_count": 6,
   "id": "542ef42a-f3c6-4662-82db-1828587d12ed",
   "metadata": {},
   "outputs": [],
   "source": [
    "x=np.array((1,2,3,4))"
   ]
  },
  {
   "cell_type": "markdown",
   "id": "a9ffd882-f4b5-4843-a375-6df531c362e6",
   "metadata": {},
   "source": [
    " This is tuple"
   ]
  },
  {
   "cell_type": "code",
   "execution_count": 8,
   "id": "14533695-8902-4358-90e0-8215b8a8c701",
   "metadata": {
    "collapsed": true,
    "jupyter": {
     "outputs_hidden": true
    }
   },
   "outputs": [
    {
     "name": "stdout",
     "output_type": "stream",
     "text": [
      "[1 2 3 4]\n"
     ]
    }
   ],
   "source": [
    "print(x)"
   ]
  },
  {
   "cell_type": "markdown",
   "id": "84351173-642f-4606-93b8-5b9789fd156b",
   "metadata": {},
   "source": [
    "2 Dimensional array"
   ]
  },
  {
   "cell_type": "code",
   "execution_count": 11,
   "id": "75aac6c4-9b0c-4cc6-be90-a1af8089a55c",
   "metadata": {},
   "outputs": [],
   "source": [
    "x=np.array([[1,2,3,4],[5,6,7,8]])"
   ]
  },
  {
   "cell_type": "code",
   "execution_count": 12,
   "id": "37828396-3225-4da5-a1ea-01471772f501",
   "metadata": {},
   "outputs": [
    {
     "name": "stdout",
     "output_type": "stream",
     "text": [
      "[[1 2 3 4]\n",
      " [5 6 7 8]]\n"
     ]
    }
   ],
   "source": [
    "print(x)"
   ]
  },
  {
   "cell_type": "markdown",
   "id": "a29312ec-83da-4885-96de-37800fd9403e",
   "metadata": {},
   "source": [
    "Get the dimension of the array"
   ]
  },
  {
   "cell_type": "code",
   "execution_count": 13,
   "id": "cbf7cdcc-c347-41e7-b850-c5d96b5341f9",
   "metadata": {},
   "outputs": [
    {
     "name": "stdout",
     "output_type": "stream",
     "text": [
      "2\n"
     ]
    }
   ],
   "source": [
    "print(x.ndim)"
   ]
  },
  {
   "cell_type": "markdown",
   "id": "c3a51602-5656-46ea-a0f3-02c0a3191a9a",
   "metadata": {},
   "source": [
    "Convert to the dimension we want"
   ]
  },
  {
   "cell_type": "code",
   "execution_count": 14,
   "id": "c22a4156-53da-4621-af3f-ab8cb3e3525a",
   "metadata": {},
   "outputs": [],
   "source": [
    "x=np.array([1,2,3,4],ndmin=4)"
   ]
  },
  {
   "cell_type": "code",
   "execution_count": 15,
   "id": "d6ffee69-b442-476e-93d2-02c9a9d91efd",
   "metadata": {},
   "outputs": [
    {
     "name": "stdout",
     "output_type": "stream",
     "text": [
      "[[[[1 2 3 4]]]]\n"
     ]
    }
   ],
   "source": [
    "print(x)"
   ]
  },
  {
   "cell_type": "markdown",
   "id": "3d6046d7-911f-4af1-8128-1d1cf311ac77",
   "metadata": {},
   "source": [
    "Indexing"
   ]
  },
  {
   "cell_type": "code",
   "execution_count": 16,
   "id": "8f8d3d8d-8fcb-45c4-89e8-c6964f10cb12",
   "metadata": {},
   "outputs": [],
   "source": [
    "x=np.array([1,2,3,4])"
   ]
  },
  {
   "cell_type": "code",
   "execution_count": 17,
   "id": "684eec08-a8bb-4ce7-810e-74c028c65ca9",
   "metadata": {},
   "outputs": [
    {
     "name": "stdout",
     "output_type": "stream",
     "text": [
      "3\n"
     ]
    }
   ],
   "source": [
    "print(x[2])"
   ]
  },
  {
   "cell_type": "code",
   "execution_count": 18,
   "id": "dc6a16b8-568e-4953-a702-4b3bf7602faf",
   "metadata": {},
   "outputs": [
    {
     "name": "stdout",
     "output_type": "stream",
     "text": [
      "7\n"
     ]
    }
   ],
   "source": [
    "print(x[2]+x[3])"
   ]
  },
  {
   "cell_type": "code",
   "execution_count": 21,
   "id": "a88006ee-d0ec-4cc2-aa3d-8c10279ecb80",
   "metadata": {},
   "outputs": [],
   "source": [
    "x=np.array([[1,2,3],[4,5,6],[7,8,9]])"
   ]
  },
  {
   "cell_type": "code",
   "execution_count": 22,
   "id": "2dfc26ef-5de9-4391-9165-17261b530eec",
   "metadata": {},
   "outputs": [
    {
     "name": "stdout",
     "output_type": "stream",
     "text": [
      "4\n"
     ]
    }
   ],
   "source": [
    "print(x[1,0])"
   ]
  },
  {
   "cell_type": "code",
   "execution_count": 23,
   "id": "01fb2be1-353d-4481-8d68-38ee2f1c981d",
   "metadata": {},
   "outputs": [],
   "source": [
    "x=np.array([[[1,2],[3,4],[5,6]]])"
   ]
  },
  {
   "cell_type": "code",
   "execution_count": 24,
   "id": "15ddb2be-1fc5-43e8-9cc1-ee619f5be4df",
   "metadata": {},
   "outputs": [
    {
     "name": "stdout",
     "output_type": "stream",
     "text": [
      "1\n"
     ]
    }
   ],
   "source": [
    "print(x[0,0,0])"
   ]
  },
  {
   "cell_type": "markdown",
   "id": "c1c5444d-2aba-4e4e-8613-3f8c7991e888",
   "metadata": {},
   "source": [
    "Slicing"
   ]
  },
  {
   "cell_type": "code",
   "execution_count": 25,
   "id": "f8201cee-8dee-4e51-8f0e-32d53a5bcec8",
   "metadata": {},
   "outputs": [],
   "source": [
    "x=np.array([1,2,3,4,5,6])"
   ]
  },
  {
   "cell_type": "code",
   "execution_count": 26,
   "id": "672c3bc9-97b8-44fa-ab9b-8b27b0ce9b0a",
   "metadata": {},
   "outputs": [
    {
     "name": "stdout",
     "output_type": "stream",
     "text": [
      "[2 3 4]\n"
     ]
    }
   ],
   "source": [
    "print(x[1:4])"
   ]
  },
  {
   "cell_type": "code",
   "execution_count": 28,
   "id": "5f339606-34c5-433a-a745-9fc7057d258e",
   "metadata": {},
   "outputs": [
    {
     "name": "stdout",
     "output_type": "stream",
     "text": [
      "[3 4 5 6]\n"
     ]
    }
   ],
   "source": [
    "print(x[-4:])"
   ]
  },
  {
   "cell_type": "code",
   "execution_count": 30,
   "id": "55b7f42e-5faa-4eb2-8515-ab3ca826ecdc",
   "metadata": {},
   "outputs": [],
   "source": [
    "x=np.array([[1,2,3],[4,5,6],[7,8,9]])"
   ]
  },
  {
   "cell_type": "code",
   "execution_count": 31,
   "id": "0768d9ac-2edf-4992-8e9b-03db54763296",
   "metadata": {},
   "outputs": [
    {
     "name": "stdout",
     "output_type": "stream",
     "text": [
      "[5 6]\n"
     ]
    }
   ],
   "source": [
    "print(x[1,1:])"
   ]
  },
  {
   "cell_type": "code",
   "execution_count": 32,
   "id": "0ca469cc-2473-4fb3-b18f-71af1f9e7492",
   "metadata": {},
   "outputs": [
    {
     "name": "stdout",
     "output_type": "stream",
     "text": [
      "[3 6 9]\n"
     ]
    }
   ],
   "source": [
    "print(x[:,2])"
   ]
  },
  {
   "cell_type": "code",
   "execution_count": 33,
   "id": "533e1aac-0e17-4f0f-807a-29bb7b7e7384",
   "metadata": {},
   "outputs": [
    {
     "name": "stdout",
     "output_type": "stream",
     "text": [
      "int64\n"
     ]
    }
   ],
   "source": [
    "print(x.dtype)"
   ]
  },
  {
   "cell_type": "code",
   "execution_count": 34,
   "id": "d0fd5b0e-7b87-4483-8a71-7648a59c7dd5",
   "metadata": {},
   "outputs": [],
   "source": [
    "x=np.array(['python','java','c++'])"
   ]
  },
  {
   "cell_type": "code",
   "execution_count": 35,
   "id": "3e5dc4f1-eb88-4e28-a98f-31b5e43a846c",
   "metadata": {},
   "outputs": [
    {
     "name": "stdout",
     "output_type": "stream",
     "text": [
      "<U6\n"
     ]
    }
   ],
   "source": [
    "print(x.dtype)"
   ]
  },
  {
   "cell_type": "code",
   "execution_count": 36,
   "id": "5b1b9d37-8fbe-41ed-a1a4-3d3dde781d0c",
   "metadata": {},
   "outputs": [],
   "source": [
    "x=np.array([1,2,3,4],dtype='f')"
   ]
  },
  {
   "cell_type": "code",
   "execution_count": 37,
   "id": "4048d767-ba94-4bfd-ba6d-70828b526e5f",
   "metadata": {},
   "outputs": [
    {
     "name": "stdout",
     "output_type": "stream",
     "text": [
      "float32\n"
     ]
    }
   ],
   "source": [
    "print(x.dtype)"
   ]
  },
  {
   "cell_type": "code",
   "execution_count": 39,
   "id": "191f4024-9c11-4f82-b7ac-a39ae42f4d56",
   "metadata": {},
   "outputs": [
    {
     "name": "stdout",
     "output_type": "stream",
     "text": [
      "['1' '2' '3' '4']\n"
     ]
    }
   ],
   "source": [
    "x=np.array([1,2,3,4],dtype='U')\n",
    "print(x)"
   ]
  },
  {
   "cell_type": "code",
   "execution_count": 40,
   "id": "7db4e6cb-d665-4d08-ac7b-7db36a43ca9d",
   "metadata": {},
   "outputs": [
    {
     "name": "stdout",
     "output_type": "stream",
     "text": [
      "1\n",
      "2\n",
      "3\n",
      "4\n"
     ]
    }
   ],
   "source": [
    "x=np.array([1,2,3,4])\n",
    "for i in x:\n",
    "    print(i)"
   ]
  },
  {
   "cell_type": "code",
   "execution_count": 42,
   "id": "8a5ae662-2911-48f6-b4c2-5bdd1653776c",
   "metadata": {},
   "outputs": [
    {
     "name": "stdout",
     "output_type": "stream",
     "text": [
      "1\n",
      "2\n",
      "3\n",
      "4\n",
      "5\n",
      "6\n"
     ]
    }
   ],
   "source": [
    "x=np.array([[1,2,3],[4,5,6]])\n",
    "for i in np.nditer(x):\n",
    "    print(i)"
   ]
  },
  {
   "cell_type": "code",
   "execution_count": 43,
   "id": "bf3da749-f081-4e42-8930-f5f111a200cc",
   "metadata": {},
   "outputs": [
    {
     "name": "stdout",
     "output_type": "stream",
     "text": [
      "(0, 0) 1\n",
      "(0, 1) 2\n",
      "(0, 2) 3\n",
      "(1, 0) 4\n",
      "(1, 1) 5\n",
      "(1, 2) 6\n"
     ]
    }
   ],
   "source": [
    "for i,j in np.ndenumerate(x):\n",
    "    print(i,j)"
   ]
  },
  {
   "cell_type": "code",
   "execution_count": 45,
   "id": "8430b26e-c4b9-4aff-be62-5a8a6ecf715a",
   "metadata": {},
   "outputs": [
    {
     "name": "stdout",
     "output_type": "stream",
     "text": [
      "(2, 4)\n"
     ]
    }
   ],
   "source": [
    "x=np.array([[1,2,3,4],[5,6,7,8]])\n",
    "print(x.shape)"
   ]
  },
  {
   "cell_type": "code",
   "execution_count": 46,
   "id": "e8b200c7-ba1b-41cd-a887-7de6a718d7e4",
   "metadata": {},
   "outputs": [
    {
     "name": "stdout",
     "output_type": "stream",
     "text": [
      "[[[[[1 2 3 4]]]]]\n",
      "(1, 1, 1, 1, 4)\n"
     ]
    }
   ],
   "source": [
    "x=np.array([1,2,3,4],ndmin=5)\n",
    "print(x)\n",
    "print(x.shape)"
   ]
  },
  {
   "cell_type": "code",
   "execution_count": 47,
   "id": "5d7dd931-2584-419d-bf6d-0fa3aae346ee",
   "metadata": {},
   "outputs": [
    {
     "name": "stdout",
     "output_type": "stream",
     "text": [
      "[[1 2 3]\n",
      " [4 5 6]\n",
      " [7 8 9]]\n"
     ]
    }
   ],
   "source": [
    "x=np.array([1,2,3,4,5,6,7,8,9])\n",
    "new=x.reshape(3,3)\n",
    "print(new)"
   ]
  },
  {
   "cell_type": "code",
   "execution_count": 48,
   "id": "e84e1e38-945c-42bd-ba41-b8edde040e8e",
   "metadata": {},
   "outputs": [
    {
     "name": "stdout",
     "output_type": "stream",
     "text": [
      "[[1 2 3 4 5 6 7 8 9]]\n"
     ]
    }
   ],
   "source": [
    "new=x.reshape(1,9)\n",
    "print(new)"
   ]
  },
  {
   "cell_type": "code",
   "execution_count": 52,
   "id": "0063a50f-3f6a-44de-ade1-2d2aa559b00f",
   "metadata": {},
   "outputs": [
    {
     "name": "stdout",
     "output_type": "stream",
     "text": [
      "[1 2 3 4 5 6]\n"
     ]
    }
   ],
   "source": [
    "x=np.array([[1,2,3],[4,5,6]])\n",
    "new = x.reshape(-1)\n",
    "print(new)"
   ]
  },
  {
   "cell_type": "code",
   "execution_count": 55,
   "id": "d453d4d4-5646-4f04-8253-4f79375786a8",
   "metadata": {},
   "outputs": [
    {
     "name": "stdout",
     "output_type": "stream",
     "text": [
      "(array([3]),)\n"
     ]
    }
   ],
   "source": [
    "arr=np.array([1,2,3,4,5,6,7])\n",
    "x=np.where(arr==4)\n",
    "print(x)"
   ]
  },
  {
   "cell_type": "code",
   "execution_count": 56,
   "id": "b445763d-18e0-487f-8062-62b0a9290c21",
   "metadata": {},
   "outputs": [
    {
     "name": "stdout",
     "output_type": "stream",
     "text": [
      "(array([1, 3, 5]),)\n"
     ]
    }
   ],
   "source": [
    "x=np.where(arr%2==0)\n",
    "print(x)"
   ]
  },
  {
   "cell_type": "code",
   "execution_count": 61,
   "id": "7e01f7d1-c615-40e9-8bca-8256012a65a7",
   "metadata": {},
   "outputs": [
    {
     "name": "stdout",
     "output_type": "stream",
     "text": [
      "[1 2 3 4 5 6 7 8]\n"
     ]
    }
   ],
   "source": [
    "arr1=np.array([1,2,3,4])\n",
    "arr2=np.array([5,6,7,8])\n",
    "newarr = np.concatenate((arr1, arr2))  \n",
    "print(newarr)"
   ]
  },
  {
   "cell_type": "code",
   "execution_count": 64,
   "id": "40e5ddc1-b703-4106-8c30-18886c81c109",
   "metadata": {},
   "outputs": [
    {
     "name": "stdout",
     "output_type": "stream",
     "text": [
      "[[1 2 3 4 5 6]\n",
      " [4 5 6 7 8 9]]\n"
     ]
    }
   ],
   "source": [
    "arr1=np.array([[1,2,3],[4,5,6]])\n",
    "arr2=np.array([[4,5,6],[7,8,9]])\n",
    "newarr = np.concatenate((arr1, arr2) , axis=1)  \n",
    "print(newarr)"
   ]
  },
  {
   "cell_type": "code",
   "execution_count": 65,
   "id": "9b9e8a39-54bc-4e36-9a89-dc563cb080ab",
   "metadata": {},
   "outputs": [
    {
     "name": "stdout",
     "output_type": "stream",
     "text": [
      "[[1 2 3]\n",
      " [4 5 6]\n",
      " [4 5 6]\n",
      " [7 8 9]]\n"
     ]
    }
   ],
   "source": [
    "arr1=np.array([[1,2,3],[4,5,6]])\n",
    "arr2=np.array([[4,5,6],[7,8,9]])\n",
    "newarr = np.concatenate((arr1, arr2) , axis=0)  \n",
    "print(newarr)"
   ]
  },
  {
   "cell_type": "code",
   "execution_count": 69,
   "id": "831d59f3-1f59-4ce9-9473-50348e8b036c",
   "metadata": {},
   "outputs": [
    {
     "name": "stdout",
     "output_type": "stream",
     "text": [
      "[array([1, 2]), array([3, 4]), array([5, 6])]\n"
     ]
    }
   ],
   "source": [
    "x=np.array([1,2,3,4,5,6])\n",
    "newarr=np.array_split(x,3)\n",
    "print(newarr)"
   ]
  },
  {
   "cell_type": "code",
   "execution_count": null,
   "id": "3599caa9-b430-4236-a412-07a558b4f472",
   "metadata": {},
   "outputs": [],
   "source": []
  }
 ],
 "metadata": {
  "kernelspec": {
   "display_name": "Python 3 (ipykernel)",
   "language": "python",
   "name": "python3"
  },
  "language_info": {
   "codemirror_mode": {
    "name": "ipython",
    "version": 3
   },
   "file_extension": ".py",
   "mimetype": "text/x-python",
   "name": "python",
   "nbconvert_exporter": "python",
   "pygments_lexer": "ipython3",
   "version": "3.12.5"
  }
 },
 "nbformat": 4,
 "nbformat_minor": 5
}
